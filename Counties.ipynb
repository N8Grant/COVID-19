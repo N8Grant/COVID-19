{
 "cells": [
  {
   "cell_type": "code",
   "execution_count": 1,
   "metadata": {},
   "outputs": [],
   "source": [
    "import requests\n",
    "from bs4 import BeautifulSoup\n",
    "import pandas as pd\n",
    "import re\n",
    "from multiprocessing import Pool\n",
    "import time"
   ]
  },
  {
   "cell_type": "code",
   "execution_count": 2,
   "metadata": {},
   "outputs": [
    {
     "data": {
      "text/html": [
       "<div>\n",
       "<style scoped>\n",
       "    .dataframe tbody tr th:only-of-type {\n",
       "        vertical-align: middle;\n",
       "    }\n",
       "\n",
       "    .dataframe tbody tr th {\n",
       "        vertical-align: top;\n",
       "    }\n",
       "\n",
       "    .dataframe thead th {\n",
       "        text-align: right;\n",
       "    }\n",
       "</style>\n",
       "<table border=\"1\" class=\"dataframe\">\n",
       "  <thead>\n",
       "    <tr style=\"text-align: right;\">\n",
       "      <th></th>\n",
       "      <th>County Names</th>\n",
       "    </tr>\n",
       "  </thead>\n",
       "  <tbody>\n",
       "    <tr>\n",
       "      <td>0</td>\n",
       "      <td>Autauga, AL</td>\n",
       "    </tr>\n",
       "    <tr>\n",
       "      <td>1</td>\n",
       "      <td>Baldwin, AL</td>\n",
       "    </tr>\n",
       "    <tr>\n",
       "      <td>2</td>\n",
       "      <td>Barbour, AL</td>\n",
       "    </tr>\n",
       "    <tr>\n",
       "      <td>3</td>\n",
       "      <td>Bibb, AL</td>\n",
       "    </tr>\n",
       "    <tr>\n",
       "      <td>4</td>\n",
       "      <td>Blount, AL</td>\n",
       "    </tr>\n",
       "  </tbody>\n",
       "</table>\n",
       "</div>"
      ],
      "text/plain": [
       "  County Names\n",
       "0  Autauga, AL\n",
       "1  Baldwin, AL\n",
       "2  Barbour, AL\n",
       "3     Bibb, AL\n",
       "4   Blount, AL"
      ]
     },
     "execution_count": 2,
     "metadata": {},
     "output_type": "execute_result"
    }
   ],
   "source": [
    "df = pd.read_csv(\"C:/Users/NathanGrant/Downloads/rona/rona/counties.csv\")\n",
    "df.head(5)"
   ]
  },
  {
   "cell_type": "code",
   "execution_count": 3,
   "metadata": {},
   "outputs": [
    {
     "name": "stdout",
     "output_type": "stream",
     "text": [
      "['Autauga, AL', 'Baldwin, AL', 'Barbour, AL', 'Bibb, AL', 'Blount, AL']\n"
     ]
    }
   ],
   "source": [
    "county_dict = df['County Names'].to_dict()\n",
    "counties = []\n",
    "for row in county_dict:\n",
    "    counties.append(county_dict[row])\n",
    "print(counties[:5])\n",
    "cord_dict = {}"
   ]
  },
  {
   "cell_type": "code",
   "execution_count": 4,
   "metadata": {},
   "outputs": [],
   "source": [
    "def get_cord(cn):\n",
    "    query = \"Coordinates of \" + cn +\" County\"\n",
    "    query = query.replace(' ', '+')\n",
    "    URL = \"https://google.com/search?q=\" + query\n",
    "    headers = requests.utils.default_headers()\n",
    "    headers.update({\n",
    "        'User-Agent': 'Mozilla/5.0 (X11; Ubuntu; Linux x86_64; rv:52.0) Gecko/20100101 Firefox/52.0',\n",
    "    })\n",
    "    page = requests.get(URL, headers=headers)\n",
    "    if page.status_code == 200: \n",
    "        soup = BeautifulSoup(page.content, 'html.parser')\n",
    "        divs = soup.findAll(\"div\", {\"class\": \"Z0LcW\"})\n",
    "        cords = [str(l) for l in divs]\n",
    "        cords = [re.sub(\"<.*?>\", \"\", s) for s in cords]\n",
    "        cord_string = cords[0]\n",
    "        cord_l = re.sub(\"° [A-Z],?\", \"\", cord_string)\n",
    "        cord_l = cord_l.split(\" \")\n",
    "        x = cord_l[1]\n",
    "        y = cord_l[0]\n",
    "        \n",
    "        print([cn, x, y])\n",
    "        cord_dict[cn] = [x,y]\n",
    "        time.sleep(20)\n",
    "        return [cn, x, y]\n",
    "    else:\n",
    "        print(\"Couldnt find it\")\n",
    "        return [\"\",\"\",\"\"]"
   ]
  },
  {
   "cell_type": "code",
   "execution_count": null,
   "metadata": {},
   "outputs": [],
   "source": [
    "p = Pool(1)\n",
    "records = p.map(get_cord, counties)\n",
    "p.terminate()\n",
    "p.join()"
   ]
  },
  {
   "cell_type": "code",
   "execution_count": null,
   "metadata": {},
   "outputs": [],
   "source": [
    "pool = Pool(processes=2)\n",
    "result = pool.map(get_cord, counties)\n",
    "\n",
    "pool.close()\n",
    "pool.join()"
   ]
  },
  {
   "cell_type": "code",
   "execution_count": 14,
   "metadata": {},
   "outputs": [
    {
     "name": "stdout",
     "output_type": "stream",
     "text": [
      "['32.5792° N, 86.4997° W']\n",
      "['32.5792', '86.4997']\n"
     ]
    },
    {
     "ename": "KeyboardInterrupt",
     "evalue": "",
     "output_type": "error",
     "traceback": [
      "\u001b[1;31m---------------------------------------------------------------------------\u001b[0m",
      "\u001b[1;31mKeyboardInterrupt\u001b[0m                         Traceback (most recent call last)",
      "\u001b[1;32m<ipython-input-14-cc4674feec91>\u001b[0m in \u001b[0;36m<module>\u001b[1;34m\u001b[0m\n\u001b[0;32m     21\u001b[0m         \u001b[0my\u001b[0m \u001b[1;33m=\u001b[0m \u001b[0mcord_l\u001b[0m\u001b[1;33m[\u001b[0m\u001b[1;36m0\u001b[0m\u001b[1;33m]\u001b[0m\u001b[1;33m\u001b[0m\u001b[1;33m\u001b[0m\u001b[0m\n\u001b[0;32m     22\u001b[0m         \u001b[0mprint\u001b[0m\u001b[1;33m(\u001b[0m\u001b[0mcord_l\u001b[0m\u001b[1;33m)\u001b[0m\u001b[1;33m\u001b[0m\u001b[1;33m\u001b[0m\u001b[0m\n\u001b[1;32m---> 23\u001b[1;33m         \u001b[0mtime\u001b[0m\u001b[1;33m.\u001b[0m\u001b[0msleep\u001b[0m\u001b[1;33m(\u001b[0m\u001b[1;36m20\u001b[0m\u001b[1;33m)\u001b[0m\u001b[1;33m\u001b[0m\u001b[1;33m\u001b[0m\u001b[0m\n\u001b[0m\u001b[0;32m     24\u001b[0m     \u001b[1;32melse\u001b[0m\u001b[1;33m:\u001b[0m\u001b[1;33m\u001b[0m\u001b[1;33m\u001b[0m\u001b[0m\n\u001b[0;32m     25\u001b[0m         \u001b[0mprint\u001b[0m\u001b[1;33m(\u001b[0m\u001b[1;34m\"Couldnt find it\"\u001b[0m\u001b[1;33m)\u001b[0m\u001b[1;33m\u001b[0m\u001b[1;33m\u001b[0m\u001b[0m\n",
      "\u001b[1;31mKeyboardInterrupt\u001b[0m: "
     ]
    }
   ],
   "source": [
    "cord_dict = {}\n",
    "for cn in counties:\n",
    "    query = \"Coordinates of \" + cn +\" County\"\n",
    "    query = query.replace(' ', '+')\n",
    "    URL = \"https://google.com/search?q=\" + query\n",
    "    headers = requests.utils.default_headers()\n",
    "    headers.update({\n",
    "        'User-Agent': 'Mozilla/5.0 (X11; Ubuntu; Linux x86_64; rv:52.0) Gecko/20100101 Firefox/52.0',\n",
    "    })\n",
    "    page = requests.get(URL, headers=headers)\n",
    "    if page.status_code == 200: \n",
    "        soup = BeautifulSoup(page.content, 'html.parser')\n",
    "        divs = soup.findAll(\"div\", {\"class\": \"Z0LcW\"})\n",
    "        cords = [str(l) for l in divs]\n",
    "        cords = [re.sub(\"<.*?>\", \"\", s) for s in cords]\n",
    "        print(cords)\n",
    "        cord_string = cords[0]\n",
    "        cord_l = re.sub(\"° [A-Z],?\", \"\", cord_string)\n",
    "        cord_l = cord_l.split(\" \")\n",
    "        x = cord_l[1]\n",
    "        y = cord_l[0]\n",
    "        print(cord_l)\n",
    "        time.sleep(20)\n",
    "    else:\n",
    "        print(\"Couldnt find it\")"
   ]
  }
 ],
 "metadata": {
  "kernelspec": {
   "display_name": "Python 3",
   "language": "python",
   "name": "python3"
  },
  "language_info": {
   "codemirror_mode": {
    "name": "ipython",
    "version": 3
   },
   "file_extension": ".py",
   "mimetype": "text/x-python",
   "name": "python",
   "nbconvert_exporter": "python",
   "pygments_lexer": "ipython3",
   "version": "3.7.4"
  }
 },
 "nbformat": 4,
 "nbformat_minor": 2
}
