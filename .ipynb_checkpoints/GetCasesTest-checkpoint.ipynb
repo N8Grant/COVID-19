{
 "cells": [
  {
   "cell_type": "code",
   "execution_count": 29,
   "metadata": {},
   "outputs": [],
   "source": [
    "from getcases import GetCases\n",
    "import numpy as np\n",
    "import pandas as pd\n",
    "from bs4 import BeautifulSoup\n",
    "import requests\n",
    "import re\n",
    "import json\n",
    "import time\n",
    "from datetime import date\n",
    "import matplotlib.pyplot as plt"
   ]
  },
  {
   "cell_type": "code",
   "execution_count": 32,
   "metadata": {},
   "outputs": [],
   "source": [
    "def parse_html(page):\n",
    "    soup = BeautifulSoup(page.content, 'html.parser')\n",
    "    # kill all script and style elements\n",
    "    spans = soup.findAll(\"span\", {\"class\": \"st\"})\n",
    "    spans = [str(s).lower() for s in spans]\n",
    "    spans = [re.sub(\"<.*?>\", \"\", s) for s in spans]\n",
    "    \n",
    "    return spans\n",
    "\n",
    "def get_news(county):\n",
    "    query = '''\"total\" \"coronavirus\" \"cases\" \"0...500\" in ''' + county +\" County\"\n",
    "    query = query.replace(' ', '+')\n",
    "    URL = \"https://google.com/search?q=\" + query\n",
    "    headers = requests.utils.default_headers()\n",
    "    headers.update({\n",
    "        'User-Agent': 'Mozilla/5.0 (X11; Ubuntu; Linux x86_64; rv:52.0) Gecko/20100101 Firefox/52.0',\n",
    "    })\n",
    "    page = requests.get(URL, headers=headers)\n",
    "    print(URL)\n",
    "    if page.status_code == 200: \n",
    "        return parse_html(page)\n",
    "    else:\n",
    "        return []"
   ]
  },
  {
   "cell_type": "code",
   "execution_count": 33,
   "metadata": {},
   "outputs": [],
   "source": [
    "with open(\"C:/Users/NathanGrant/Downloads/rona/rona/cord_dict.json\") as f:\n",
    "    county_dict = json.load(f)\n",
    "cases_dict = {}\n",
    "getcases = GetCases()"
   ]
  },
  {
   "cell_type": "code",
   "execution_count": 35,
   "metadata": {},
   "outputs": [
    {
     "ename": "SyntaxError",
     "evalue": "EOL while scanning string literal (<ipython-input-35-41abb8991d0a>, line 5)",
     "output_type": "error",
     "traceback": [
      "\u001b[1;36m  File \u001b[1;32m\"<ipython-input-35-41abb8991d0a>\"\u001b[1;36m, line \u001b[1;32m5\u001b[0m\n\u001b[1;33m    pred = getcases.predict('18 mins ago - as coronavirus continues to spread in washington state, kiro 7 is gathering ... public health – seattle &amp; king county announced three new deaths and 60 new cases. the county total is now at 35 deaths with 387 total cases. \\\u001b[0m\n\u001b[1;37m                                                                                                                                                                                                                                                                               ^\u001b[0m\n\u001b[1;31mSyntaxError\u001b[0m\u001b[1;31m:\u001b[0m EOL while scanning string literal\n"
     ]
    }
   ],
   "source": [
    "counties = list(county_dict.keys())\n",
    "county = 'Kings, WA'\n",
    "print(county)\n",
    "news = '18 mins ago - as coronavirus continues to spread in washington state, kiro 7 is gathering ... public health – seattle &amp; king county announced three new deaths and 60 new cases. the county total is now at 35 deaths with 387 total cases.'\n",
    "pred = getcases.predict(,county)"
   ]
  },
  {
   "cell_type": "code",
   "execution_count": null,
   "metadata": {},
   "outputs": [],
   "source": []
  }
 ],
 "metadata": {
  "kernelspec": {
   "display_name": "Python 3",
   "language": "python",
   "name": "python3"
  },
  "language_info": {
   "codemirror_mode": {
    "name": "ipython",
    "version": 3
   },
   "file_extension": ".py",
   "mimetype": "text/x-python",
   "name": "python",
   "nbconvert_exporter": "python",
   "pygments_lexer": "ipython3",
   "version": "3.7.4"
  }
 },
 "nbformat": 4,
 "nbformat_minor": 2
}
