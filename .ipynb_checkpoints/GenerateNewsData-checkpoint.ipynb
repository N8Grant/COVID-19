{
 "cells": [
  {
   "cell_type": "code",
   "execution_count": 27,
   "metadata": {},
   "outputs": [],
   "source": [
    "from fuzzywuzzy import fuzz\n",
    "import numpy as np\n",
    "import pandas as pd\n",
    "from bs4 import BeautifulSoup\n",
    "import requests\n",
    "import re\n",
    "import json\n",
    "import time\n",
    "from datetime import date\n",
    "import matplotlib.pyplot as plt\n",
    "import uuid \n",
    "from IPython.display import clear_output"
   ]
  },
  {
   "cell_type": "code",
   "execution_count": 28,
   "metadata": {},
   "outputs": [],
   "source": [
    "with open(\"/Users/Nathan/Documents/CS348/rona/cord_dict.json\") as f:\n",
    "     county_dict = json.load(f)"
   ]
  },
  {
   "cell_type": "code",
   "execution_count": 29,
   "metadata": {},
   "outputs": [],
   "source": [
    "def get_news(county):\n",
    "    query = '''\"total\" \"coronavirus\" \"cases\" \"0...500\" in ''' + county +\" County\"\n",
    "    query = query.replace(' ', '+')\n",
    "    URL = \"https://google.com/search?q=\" + query\n",
    "    headers = requests.utils.default_headers()\n",
    "    headers.update({\n",
    "        'User-Agent': 'Mozilla/5.0 (X11; Ubuntu; Linux x86_64; rv:52.0) Gecko/20100101 Firefox/52.0',\n",
    "    })\n",
    "    page = requests.get(URL, headers=headers)\n",
    "    print(URL)\n",
    "    if page.status_code == 200: \n",
    "        return parse_html(page)\n",
    "    else:\n",
    "        return []\n",
    "    \n",
    "def parse_html(page):\n",
    "    soup = BeautifulSoup(page.content, 'html.parser')\n",
    "    # kill all script and style elements\n",
    "    spans = soup.findAll(\"span\", {\"class\": \"st\"})\n",
    "    spans = [str(s).lower() for s in spans]\n",
    "    spans = [re.sub(\"<.*?>\", \"\", s) for s in spans]\n",
    "    \n",
    "    return spans"
   ]
  },
  {
   "cell_type": "markdown",
   "metadata": {},
   "source": [
    "#Dictionary Format\n",
    "{\n",
    "    'context': \"This is the first context\",\n",
    "    'qas': [\n",
    "                {\n",
    "                    'id': \"00001\",\n",
    "                    'is_impossible': False,\n",
    "                    'question': \"Which context is this?\",\n",
    "                    'answers': [\n",
    "                        {\n",
    "                            'text': \"the first\",\n",
    "                            'answer_start': 8\n",
    "                        }\n",
    "                    ]\n",
    "                }\n",
    "            ]\n",
    "}"
   ]
  },
  {
   "cell_type": "code",
   "execution_count": 40,
   "metadata": {},
   "outputs": [
    {
     "name": "stdout",
     "output_type": "stream",
     "text": [
      "Fresno, CA\n",
      "1 day ago - of those reported cases, 47 people have died, with deaths in ... virus, with another two deaths from covid-19 in snohomish county and one death in grant county. ... 240 confirmed or presumptive positive covid-19 cases in california, ... ventura: 1; shasta county: 1; fresno county: 2; riverside county: 6 ...\n",
      "Total cases in fresno county?\n"
     ]
    },
    {
     "ename": "KeyboardInterrupt",
     "evalue": "",
     "output_type": "error",
     "traceback": [
      "\u001b[0;31m---------------------------------------------------------------------------\u001b[0m",
      "\u001b[0;31mKeyboardInterrupt\u001b[0m                         Traceback (most recent call last)",
      "\u001b[0;32m/Library/Frameworks/Python.framework/Versions/3.5/lib/python3.5/site-packages/ipykernel/kernelbase.py\u001b[0m in \u001b[0;36m_input_request\u001b[0;34m(self, prompt, ident, parent, password)\u001b[0m\n\u001b[1;32m    728\u001b[0m             \u001b[0;32mtry\u001b[0m\u001b[0;34m:\u001b[0m\u001b[0;34m\u001b[0m\u001b[0m\n\u001b[0;32m--> 729\u001b[0;31m                 \u001b[0mident\u001b[0m\u001b[0;34m,\u001b[0m \u001b[0mreply\u001b[0m \u001b[0;34m=\u001b[0m \u001b[0mself\u001b[0m\u001b[0;34m.\u001b[0m\u001b[0msession\u001b[0m\u001b[0;34m.\u001b[0m\u001b[0mrecv\u001b[0m\u001b[0;34m(\u001b[0m\u001b[0mself\u001b[0m\u001b[0;34m.\u001b[0m\u001b[0mstdin_socket\u001b[0m\u001b[0;34m,\u001b[0m \u001b[0;36m0\u001b[0m\u001b[0;34m)\u001b[0m\u001b[0;34m\u001b[0m\u001b[0m\n\u001b[0m\u001b[1;32m    730\u001b[0m             \u001b[0;32mexcept\u001b[0m \u001b[0mException\u001b[0m\u001b[0;34m:\u001b[0m\u001b[0;34m\u001b[0m\u001b[0m\n",
      "\u001b[0;32m/Library/Frameworks/Python.framework/Versions/3.5/lib/python3.5/site-packages/jupyter_client/session.py\u001b[0m in \u001b[0;36mrecv\u001b[0;34m(self, socket, mode, content, copy)\u001b[0m\n\u001b[1;32m    802\u001b[0m         \u001b[0;32mtry\u001b[0m\u001b[0;34m:\u001b[0m\u001b[0;34m\u001b[0m\u001b[0m\n\u001b[0;32m--> 803\u001b[0;31m             \u001b[0mmsg_list\u001b[0m \u001b[0;34m=\u001b[0m \u001b[0msocket\u001b[0m\u001b[0;34m.\u001b[0m\u001b[0mrecv_multipart\u001b[0m\u001b[0;34m(\u001b[0m\u001b[0mmode\u001b[0m\u001b[0;34m,\u001b[0m \u001b[0mcopy\u001b[0m\u001b[0;34m=\u001b[0m\u001b[0mcopy\u001b[0m\u001b[0;34m)\u001b[0m\u001b[0;34m\u001b[0m\u001b[0m\n\u001b[0m\u001b[1;32m    804\u001b[0m         \u001b[0;32mexcept\u001b[0m \u001b[0mzmq\u001b[0m\u001b[0;34m.\u001b[0m\u001b[0mZMQError\u001b[0m \u001b[0;32mas\u001b[0m \u001b[0me\u001b[0m\u001b[0;34m:\u001b[0m\u001b[0;34m\u001b[0m\u001b[0m\n",
      "\u001b[0;32m/Library/Frameworks/Python.framework/Versions/3.5/lib/python3.5/site-packages/zmq/sugar/socket.py\u001b[0m in \u001b[0;36mrecv_multipart\u001b[0;34m(self, flags, copy, track)\u001b[0m\n\u001b[1;32m    466\u001b[0m         \"\"\"\n\u001b[0;32m--> 467\u001b[0;31m         \u001b[0mparts\u001b[0m \u001b[0;34m=\u001b[0m \u001b[0;34m[\u001b[0m\u001b[0mself\u001b[0m\u001b[0;34m.\u001b[0m\u001b[0mrecv\u001b[0m\u001b[0;34m(\u001b[0m\u001b[0mflags\u001b[0m\u001b[0;34m,\u001b[0m \u001b[0mcopy\u001b[0m\u001b[0;34m=\u001b[0m\u001b[0mcopy\u001b[0m\u001b[0;34m,\u001b[0m \u001b[0mtrack\u001b[0m\u001b[0;34m=\u001b[0m\u001b[0mtrack\u001b[0m\u001b[0;34m)\u001b[0m\u001b[0;34m]\u001b[0m\u001b[0;34m\u001b[0m\u001b[0m\n\u001b[0m\u001b[1;32m    468\u001b[0m         \u001b[0;31m# have first part already, only loop while more to receive\u001b[0m\u001b[0;34m\u001b[0m\u001b[0;34m\u001b[0m\u001b[0m\n",
      "\u001b[0;32mzmq/backend/cython/socket.pyx\u001b[0m in \u001b[0;36mzmq.backend.cython.socket.Socket.recv\u001b[0;34m()\u001b[0m\n",
      "\u001b[0;32mzmq/backend/cython/socket.pyx\u001b[0m in \u001b[0;36mzmq.backend.cython.socket.Socket.recv\u001b[0;34m()\u001b[0m\n",
      "\u001b[0;32mzmq/backend/cython/socket.pyx\u001b[0m in \u001b[0;36mzmq.backend.cython.socket._recv_copy\u001b[0;34m()\u001b[0m\n",
      "\u001b[0;32m/Library/Frameworks/Python.framework/Versions/3.5/lib/python3.5/site-packages/zmq/backend/cython/checkrc.pxd\u001b[0m in \u001b[0;36mzmq.backend.cython.checkrc._check_rc\u001b[0;34m()\u001b[0m\n",
      "\u001b[0;31mKeyboardInterrupt\u001b[0m: ",
      "\nDuring handling of the above exception, another exception occurred:\n",
      "\u001b[0;31mKeyboardInterrupt\u001b[0m                         Traceback (most recent call last)",
      "\u001b[0;32m<ipython-input-40-10c35e76d742>\u001b[0m in \u001b[0;36m<module>\u001b[0;34m()\u001b[0m\n\u001b[1;32m     13\u001b[0m         \u001b[0mprint\u001b[0m\u001b[0;34m(\u001b[0m\u001b[0mn\u001b[0m\u001b[0;34m)\u001b[0m\u001b[0;34m\u001b[0m\u001b[0m\n\u001b[1;32m     14\u001b[0m         \u001b[0mprint\u001b[0m\u001b[0;34m(\u001b[0m\u001b[0mquestion\u001b[0m\u001b[0;34m)\u001b[0m\u001b[0;34m\u001b[0m\u001b[0m\n\u001b[0;32m---> 15\u001b[0;31m         \u001b[0mis_impossible\u001b[0m \u001b[0;34m=\u001b[0m \u001b[0minput\u001b[0m\u001b[0;34m(\u001b[0m\u001b[0;34m\"Is it impossible?:\"\u001b[0m\u001b[0;34m)\u001b[0m\u001b[0;34m\u001b[0m\u001b[0m\n\u001b[0m\u001b[1;32m     16\u001b[0m         \u001b[0;32mif\u001b[0m \u001b[0mis_impossible\u001b[0m \u001b[0;34m==\u001b[0m  \u001b[0;34m\"t\"\u001b[0m \u001b[0;32mor\u001b[0m \u001b[0mis_impossible\u001b[0m \u001b[0;34m==\u001b[0m \u001b[0;34m\"True\"\u001b[0m \u001b[0;32mor\u001b[0m \u001b[0mis_impossible\u001b[0m \u001b[0;34m==\u001b[0m \u001b[0;34m\"true\"\u001b[0m\u001b[0;34m:\u001b[0m\u001b[0;34m\u001b[0m\u001b[0m\n\u001b[1;32m     17\u001b[0m             \u001b[0mis_impossible\u001b[0m \u001b[0;34m=\u001b[0m \u001b[0;32mTrue\u001b[0m\u001b[0;34m\u001b[0m\u001b[0m\n",
      "\u001b[0;32m/Library/Frameworks/Python.framework/Versions/3.5/lib/python3.5/site-packages/ipykernel/kernelbase.py\u001b[0m in \u001b[0;36mraw_input\u001b[0;34m(self, prompt)\u001b[0m\n\u001b[1;32m    702\u001b[0m             \u001b[0mself\u001b[0m\u001b[0;34m.\u001b[0m\u001b[0m_parent_ident\u001b[0m\u001b[0;34m,\u001b[0m\u001b[0;34m\u001b[0m\u001b[0m\n\u001b[1;32m    703\u001b[0m             \u001b[0mself\u001b[0m\u001b[0;34m.\u001b[0m\u001b[0m_parent_header\u001b[0m\u001b[0;34m,\u001b[0m\u001b[0;34m\u001b[0m\u001b[0m\n\u001b[0;32m--> 704\u001b[0;31m             \u001b[0mpassword\u001b[0m\u001b[0;34m=\u001b[0m\u001b[0;32mFalse\u001b[0m\u001b[0;34m,\u001b[0m\u001b[0;34m\u001b[0m\u001b[0m\n\u001b[0m\u001b[1;32m    705\u001b[0m         )\n\u001b[1;32m    706\u001b[0m \u001b[0;34m\u001b[0m\u001b[0m\n",
      "\u001b[0;32m/Library/Frameworks/Python.framework/Versions/3.5/lib/python3.5/site-packages/ipykernel/kernelbase.py\u001b[0m in \u001b[0;36m_input_request\u001b[0;34m(self, prompt, ident, parent, password)\u001b[0m\n\u001b[1;32m    732\u001b[0m             \u001b[0;32mexcept\u001b[0m \u001b[0mKeyboardInterrupt\u001b[0m\u001b[0;34m:\u001b[0m\u001b[0;34m\u001b[0m\u001b[0m\n\u001b[1;32m    733\u001b[0m                 \u001b[0;31m# re-raise KeyboardInterrupt, to truncate traceback\u001b[0m\u001b[0;34m\u001b[0m\u001b[0;34m\u001b[0m\u001b[0m\n\u001b[0;32m--> 734\u001b[0;31m                 \u001b[0;32mraise\u001b[0m \u001b[0mKeyboardInterrupt\u001b[0m\u001b[0;34m\u001b[0m\u001b[0m\n\u001b[0m\u001b[1;32m    735\u001b[0m             \u001b[0;32melse\u001b[0m\u001b[0;34m:\u001b[0m\u001b[0;34m\u001b[0m\u001b[0m\n\u001b[1;32m    736\u001b[0m                 \u001b[0;32mbreak\u001b[0m\u001b[0;34m\u001b[0m\u001b[0m\n",
      "\u001b[0;31mKeyboardInterrupt\u001b[0m: "
     ]
    }
   ],
   "source": [
    "list_of_questions = []\n",
    "for county in county_dict.keys():\n",
    "    just_county = re.sub(', [A-Z]+','', county).lower()\n",
    "    \n",
    "    question = \"Total cases in \"+just_county+ \" county?\"\n",
    "    news = get_news(county)\n",
    "    for n in news[:4]:\n",
    "        train_datum = {\"context\": n}\n",
    "        \n",
    "        qas = {}\n",
    "\n",
    "        print(county)\n",
    "        print(n)\n",
    "        print(question)\n",
    "        is_impossible = input(\"Is it impossible?:\")\n",
    "        if is_impossible ==  \"t\" or is_impossible == \"True\" or is_impossible == \"true\":\n",
    "            is_impossible = True\n",
    "            qas['answers'] = []\n",
    "        else:\n",
    "            is_impossible = False\n",
    "            answer = input(\"Answer: \")\n",
    "            answer_start = input(\"copy paste up to answer: \")\n",
    "            answer_start = len(answer_start)\n",
    "            qas['answers'] = [{'text': answer,'answer_start': answer_start}]    \n",
    "        \n",
    "        qas['id'] = uuid.uuid4().int\n",
    "        qas['is_impossible'] = is_impossible\n",
    "        qas['question'] = question\n",
    "        \n",
    "        train_datum[\"qas\"] = [qas]\n",
    "        list_of_questions.append(train_datum)\n",
    "        clear_output()\n",
    "        "
   ]
  },
  {
   "cell_type": "code",
   "execution_count": 41,
   "metadata": {},
   "outputs": [
    {
     "name": "stdout",
     "output_type": "stream",
     "text": [
      "[{'context': '4 days ago - there are currently no confirmed covid-19 cases in crittenden county. ... watch: west memphis leaders brief public on coronavirus concerns ... 2020 confirmed cases of covid-19 in arkansas 0 persons under ... related: 1st reported covid-19 case in east tennessee brings state total to seven.', 'qas': [{'is_impossible': False, 'id': 135840960618919213704997419319551949854, 'question': 'Total cases in crittenden county?', 'answers': [{'text': 'There are no cases', 'answer_start': 33}]}]}, {'context': 'adh currently testing two people for coronavirus disease 2019 ... there are currently no confirmed cases of covid-19 in arkansas. ... little rock - crittenden county has been designated a health professional shortage area (hpsa) ... private wells impacted by flooding will need to be tested for total coliforms and e. coli,\\xa0...', 'qas': [{'is_impossible': True, 'id': 69068893819230733667988657116360518947, 'question': 'Total cases in crittenden county?', 'answers': []}]}, {'context': 'jun 24, 2019 - man arrested on murder charge in deaths of 3 in crittenden county. news. by: ap ... mississippi reports 3 more cases of new coronavirus; total 4 ... 26 coronavirus cases confirmed in tennessee; 9 in arkansas; 4 in mississippi\\xa0...', 'qas': [{'is_impossible': True, 'id': 210477181984639609781629226047592156394, 'question': 'Total cases in crittenden county?', 'answers': []}]}, {'context': 'jul 4, 2019 - arkansas governor asa hutchinson announced wednesday that he will grant ... on felony drug and misdemeanor assault charges in crittenden county in 2005. ... 26 coronavirus cases confirmed in tennessee; 9 in arkansas; 4 in mississippi ... mississippi reports 3 more cases of new coronavirus; total 4\\xa0...', 'qas': [{'is_impossible': True, 'id': 88931783776724382104711398569279469624, 'question': 'Total cases in crittenden county?', 'answers': []}]}, {'context': 'total cases: 1 (travel-related); total deaths: 0 ... march 7, 2020, the fcdph confirmed the first case of coronavirus disease 2019 (covid-19) in fresno county.', 'qas': [{'is_impossible': False, 'id': 75252349769845265324331465290051193744, 'question': 'Total cases in fresno county?', 'answers': [{'text': 'There is 1 case', 'answer_start': 13}]}]}, {'context': \"3 days ago - here's where coronavirus cases have been reported in california ... the person's family was self-monitoring under the oversight of the fresno county department of ... “we currently have no confirmed cases of covid-19 in humboldt county, but we know ... the county has announced a total of seven cases.\", 'qas': [{'is_impossible': False, 'id': 148988876923087636785076928203810563142, 'question': 'Total cases in fresno county?', 'answers': [{'text': 'There are seven cases', 'answer_start': 302}]}]}, {'context': '7 days ago - the fresno county department of public health confirmed the first case of coronavirus, also known as covid-19 in fresno county on saturday. ... fresno county, calif. (ksee/kgpe) — the fresno county department of public health ... 5 new coronavirus cases in san francisco bringing total to 28\\xa0...', 'qas': [{'is_impossible': False, 'id': 267689373414249735299228358397298603212, 'question': 'Total cases in fresno county?', 'answers': [{'text': 'There is one case', 'answer_start': 73}]}]}]\n"
     ]
    }
   ],
   "source": [
    "print(list_of_questions)"
   ]
  },
  {
   "cell_type": "code",
   "execution_count": 42,
   "metadata": {},
   "outputs": [],
   "source": [
    "with open('/Users/Nathan/Documents/CS348/rona/training_data.json', 'w') as outfile:\n",
    "    json.dump(list_of_questions, outfile)"
   ]
  },
  {
   "cell_type": "code",
   "execution_count": null,
   "metadata": {},
   "outputs": [],
   "source": []
  }
 ],
 "metadata": {
  "kernelspec": {
   "display_name": "Python 3",
   "language": "python",
   "name": "python3"
  },
  "language_info": {
   "codemirror_mode": {
    "name": "ipython",
    "version": 3
   },
   "file_extension": ".py",
   "mimetype": "text/x-python",
   "name": "python",
   "nbconvert_exporter": "python",
   "pygments_lexer": "ipython3",
   "version": "3.7.4"
  }
 },
 "nbformat": 4,
 "nbformat_minor": 2
}
